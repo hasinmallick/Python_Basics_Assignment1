{
  "cells": [
    {
      "cell_type": "markdown",
      "metadata": {
        "id": "view-in-github",
        "colab_type": "text"
      },
      "source": [
        "<a href=\"https://colab.research.google.com/github/hasinmallick/Python_Basics_Assignment1/blob/main/hasin_20229029.ipynb\" target=\"_parent\"><img src=\"https://colab.research.google.com/assets/colab-badge.svg\" alt=\"Open In Colab\"/></a>"
      ]
    },
    {
      "cell_type": "code",
      "execution_count": null,
      "metadata": {
        "id": "WTvnupwZm4D_"
      },
      "outputs": [],
      "source": [
        "import pandas as pd\n",
        "import numpy as np"
      ]
    },
    {
      "cell_type": "markdown",
      "metadata": {
        "id": "Ee3PyV-cFMkH"
      },
      "source": [
        "# Problem 1:\n",
        "### Python program to count the number of characters (character frequency) in a string"
      ]
    },
    {
      "cell_type": "code",
      "execution_count": null,
      "metadata": {
        "id": "JhggQgk46ktr",
        "colab": {
          "base_uri": "https://localhost:8080/"
        },
        "outputId": "0d8b394b-2ee9-4649-c19b-a4376b6e5f66"
      },
      "outputs": [
        {
          "name": "stdout",
          "output_type": "stream",
          "text": [
            "google.com\n"
          ]
        },
        {
          "output_type": "execute_result",
          "data": {
            "text/plain": [
              "{'g': 2, 'o': 3, 'l': 1, 'e': 1, '.': 1, 'c': 1, 'm': 1}"
            ]
          },
          "metadata": {},
          "execution_count": 3
        }
      ],
      "source": [
        "def char_count(my_string):\n",
        "    char_dict = {}\n",
        "    for char in my_string:\n",
        "        if char not in char_dict:\n",
        "            char_dict[char] = 1\n",
        "        else:\n",
        "            char_dict[char] += 1\n",
        "    return char_dict\n",
        " \n",
        "user_string = input()\n",
        "char_count(user_string)"
      ]
    },
    {
      "cell_type": "code",
      "execution_count": null,
      "metadata": {
        "id": "l5IjylLWjv8D"
      },
      "outputs": [],
      "source": [
        "\n"
      ]
    },
    {
      "cell_type": "markdown",
      "metadata": {
        "id": "-yKLcKuMjygx"
      },
      "source": [
        "# Problem 2:\n",
        "### Python program to check if a given key already exists in a dictionary"
      ]
    },
    {
      "cell_type": "code",
      "execution_count": null,
      "metadata": {
        "colab": {
          "base_uri": "https://localhost:8080/"
        },
        "id": "WsZ_aHHmjzRZ",
        "outputId": "34bbe0c1-45a8-48a6-dd94-995d45077473"
      },
      "outputs": [
        {
          "name": "stdout",
          "output_type": "stream",
          "text": [
            "Enter the key: o\n",
            "Key does not exist\n"
          ]
        }
      ],
      "source": [
        "def key_exists(my_dict, key):\n",
        "    if key in my_dict:\n",
        "        print(\"Key already exists\")\n",
        "    else:\n",
        "        print(\"Key does not exist\")\n",
        "\n",
        "my_dict = {'p': 'python', 'c': 'c++', 'j': 'java', 'g': 'golang', }\n",
        "key = input(\"Enter the key: \")\n",
        "key_exists(my_dict, key)"
      ]
    },
    {
      "cell_type": "markdown",
      "metadata": {
        "id": "K-0vYMrrkHt4"
      },
      "source": [
        "# Problem 3:\n",
        "### Python program that accepts a sequence of comma-separated numbers from the user and generates a list and a tuple of those numbers."
      ]
    },
    {
      "cell_type": "code",
      "execution_count": 6,
      "metadata": {
        "colab": {
          "base_uri": "https://localhost:8080/"
        },
        "id": "McR5U_Y8kHQI",
        "outputId": "e15b16a9-963f-4050-fad1-892d74c1ec5e"
      },
      "outputs": [
        {
          "output_type": "stream",
          "name": "stdout",
          "text": [
            "1234\n",
            "List:  [1234]\n",
            "Tuple:  (1234,)\n"
          ]
        }
      ],
      "source": [
        "def list_tuple(my_string):\n",
        "    list_string = my_string.split(',')\n",
        "    final_list = []\n",
        "    \n",
        "    # if there is a whitespave after ',', before any elements, it will remove that whitespace\n",
        "    for item in list_string:\n",
        "        stripped = item.strip()\n",
        "        num_stripped = int(stripped)\n",
        "        final_list.append(num_stripped)\n",
        "    \n",
        "    string_tuple = tuple(final_list)\n",
        "    return final_list, string_tuple\n",
        "\n",
        "user_input = input()\n",
        "string_list, string_tuple = list_tuple(user_input)\n",
        "print('List: ', string_list)\n",
        "print('Tuple: ', string_tuple)"
      ]
    },
    {
      "cell_type": "code",
      "execution_count": null,
      "metadata": {
        "id": "nP-HUwDlkVEK"
      },
      "outputs": [],
      "source": []
    },
    {
      "cell_type": "markdown",
      "metadata": {
        "id": "oYurM_Mylddw"
      },
      "source": [
        "# Problem 4:\n",
        "### Python program to calculate the number of days between two dates\n",
        "###Sample Dates : (2015,8,2)(2015,8,11)"
      ]
    },
    {
      "cell_type": "code",
      "execution_count": null,
      "metadata": {
        "id": "Ukil48wHljj_"
      },
      "outputs": [],
      "source": []
    },
    {
      "cell_type": "code",
      "execution_count": 5,
      "metadata": {
        "id": "Uf7w_dijlhSB",
        "colab": {
          "base_uri": "https://localhost:8080/"
        },
        "outputId": "cad521ad-c879-48bc-9935-ebf2fb6243b8"
      },
      "outputs": [
        {
          "output_type": "stream",
          "name": "stdout",
          "text": [
            "Number of days between 2015-08-02 and 2015-08-11 is: 9\n"
          ]
        }
      ],
      "source": [
        "from datetime import date\n",
        "date1=date(2015,8,2)\n",
        "date2=date(2015,8,11)\n",
        "delta=date2-date1\n",
        "num_days=delta.days\n",
        "print('Number of days between', date1, 'and', date2,'is:',num_days)\n"
      ]
    },
    {
      "cell_type": "markdown",
      "metadata": {
        "id": "pmu6xjGSlkf5"
      },
      "source": [
        "# Problem 5:\n",
        "### Python program to solve (x + y) * (x + y)."
      ]
    },
    {
      "cell_type": "code",
      "execution_count": null,
      "metadata": {
        "colab": {
          "base_uri": "https://localhost:8080/"
        },
        "id": "OmuHh_3clqC4",
        "outputId": "b34781c6-b6b2-4661-c722-eaeb9c4f21e0"
      },
      "outputs": [
        {
          "name": "stdout",
          "output_type": "stream",
          "text": [
            "x = 4\n",
            "y = 8\n",
            "(4 + 8)^2 = 144\n"
          ]
        }
      ],
      "source": [
        "def evaluation(x, y):\n",
        "    result = (x * x) + (2 * x * y) + y * y\n",
        "    return result\n",
        "\n",
        "x = int(input('x = '))\n",
        "y = int(input('y = '))\n",
        "print(f\"({x} + {y})^2 = {evaluation(x, y)}\")"
      ]
    },
    {
      "cell_type": "code",
      "execution_count": null,
      "metadata": {
        "id": "nH0c8B7clsAh"
      },
      "outputs": [],
      "source": []
    },
    {
      "cell_type": "markdown",
      "metadata": {
        "id": "2-RcFIvel1JI"
      },
      "source": [
        "# Problem 6:\n",
        "### Python program to compute the future value of a specified principal amount, rate of interest, and number of years"
      ]
    },
    {
      "cell_type": "code",
      "execution_count": null,
      "metadata": {
        "colab": {
          "base_uri": "https://localhost:8080/"
        },
        "id": "5JNYmxtcl3yA",
        "outputId": "ae8baf73-dd32-4a0e-83ca-9bc78869699c"
      },
      "outputs": [
        {
          "name": "stdout",
          "output_type": "stream",
          "text": [
            "amt = 10000\n",
            "int = 3.5\n",
            "years = 7\n",
            "12722.79\n"
          ]
        }
      ],
      "source": [
        "def total_amount(principal, interest_rate, time_period):\n",
        "    \n",
        "    # formulae for calculating the total amount is 'principal * (1 + (interst_rate / 100)) ** 7'\n",
        "    amount = principal * (1 + (interest_rate / 100)) ** 7\n",
        "    return amount\n",
        "\n",
        "principal = float(input('amt = '))\n",
        "interest_rate = float(input('int = '))\n",
        "time_period = float(input('years = '))\n",
        "\n",
        "print(\"%0.2f\" % total_amount(principal, interest_rate, time_period))"
      ]
    },
    {
      "cell_type": "code",
      "execution_count": null,
      "metadata": {
        "id": "wML4caDIl57D"
      },
      "outputs": [],
      "source": []
    },
    {
      "cell_type": "markdown",
      "metadata": {
        "id": "0zlvA15KmAd4"
      },
      "source": [
        "# Problem 7:\n",
        "### Python program that removes duplicate elements from a given array of numbers so that each element appears only once and returns the new length of the array"
      ]
    },
    {
      "cell_type": "code",
      "execution_count": null,
      "metadata": {
        "colab": {
          "background_save": true,
          "base_uri": "https://localhost:8080/"
        },
        "id": "hiIyqujZmA5I",
        "outputId": "5328fb8b-4278-468e-f8b1-2ea6d9dccd9b"
      },
      "outputs": [
        {
          "name": "stdout",
          "output_type": "stream",
          "text": [
            "Enter the number in the list separating by 'space': \n",
            "The list of unique numbers:  [1, 2, 3, 4, 5]\n",
            "length of the unique list:  5\n"
          ]
        }
      ],
      "source": [
        "def unique_list(my_list):\n",
        "    new_unique_list = []\n",
        "    \n",
        "    for item in my_list:\n",
        "        if item not in new_unique_list:\n",
        "            new_unique_list.append(item)\n",
        "    \n",
        "    return new_unique_list\n",
        "print('Enter the number in the list separating by \\'space\\': ')\n",
        "my_list = list(map(int, input().split()))\n",
        "print('The list of unique numbers: ' ,unique_list(my_list))\n",
        "print('length of the unique list: ', len(unique_list(my_list)))"
      ]
    },
    {
      "cell_type": "code",
      "execution_count": null,
      "metadata": {
        "colab": {
          "background_save": true
        },
        "id": "vgKWKlGAmDpA"
      },
      "outputs": [],
      "source": []
    },
    {
      "cell_type": "markdown",
      "metadata": {
        "id": "GjNeGIxumTDw"
      },
      "source": []
    },
    {
      "cell_type": "markdown",
      "metadata": {
        "id": "EhYJy8EUmTJc"
      },
      "source": [
        "# Problem 8:\n",
        "### Python program to sort (ascending and descending) a dictionary by key value."
      ]
    },
    {
      "cell_type": "code",
      "execution_count": null,
      "metadata": {
        "colab": {
          "base_uri": "https://localhost:8080/"
        },
        "id": "X1CIdyC8mVso",
        "outputId": "7ee73b8e-3824-4dc2-bef6-2f5ddf5b5690"
      },
      "outputs": [
        {
          "name": "stdout",
          "output_type": "stream",
          "text": [
            "Ascending sort:  ['Apple', 'Mango', 'Orange', 'Red', 'Strawberry']\n",
            "Descending sort:  ['Strawberry', 'Red', 'Orange', 'Mango', 'Apple']\n"
          ]
        }
      ],
      "source": [
        "def dict_sort(my_dict):\n",
        "    ascending_sort = sorted(my_dict)\n",
        "    descending_sort = sorted(my_dict, reverse=True)\n",
        "    return ascending_sort, descending_sort\n",
        "\n",
        "my_dict = {'Red': 5, 'Apple': 9, 'Orange': 4, 'Mango': 10, 'Strawberry': 2}\n",
        "ascending_dict, descending_dict = dict_sort(my_dict)\n",
        "print('Ascending sort: ', ascending_dict)\n",
        "print('Descending sort: ', descending_dict)"
      ]
    },
    {
      "cell_type": "code",
      "execution_count": null,
      "metadata": {
        "id": "rrYqkynDmXeQ"
      },
      "outputs": [],
      "source": []
    },
    {
      "cell_type": "markdown",
      "metadata": {
        "id": "VyJGT6VImYy4"
      },
      "source": [
        "\n",
        "\n",
        "# Problem 9:\n",
        "### Python program to add key to a dictionary\n",
        "\n"
      ]
    },
    {
      "cell_type": "code",
      "execution_count": null,
      "metadata": {
        "colab": {
          "base_uri": "https://localhost:8080/"
        },
        "id": "ppEqD7yWmiCB",
        "outputId": "75993465-221f-49ae-952d-1aabc3c3305c"
      },
      "outputs": [
        {
          "data": {
            "text/plain": [
              "{0: 10, 1: 20, 2: 30}"
            ]
          },
          "execution_count": 16,
          "metadata": {},
          "output_type": "execute_result"
        }
      ],
      "source": [
        "def add_key(my_dict, key, value):\n",
        "    my_dict[key] = value\n",
        "    return my_dict\n",
        "\n",
        "my_dict = {0: 10, 1: 20}\n",
        "# key = int(input('Eneter the key'))\n",
        "# value = int(input('Eneter the value'))\n",
        "key = 2\n",
        "value = 30\n",
        "add_key(my_dict, key, value)"
      ]
    },
    {
      "cell_type": "code",
      "execution_count": null,
      "metadata": {
        "id": "DZUR3JIcmlHR"
      },
      "outputs": [],
      "source": []
    },
    {
      "cell_type": "markdown",
      "metadata": {
        "id": "5Zd-PcSTmmgR"
      },
      "source": [
        "# Problem 10:\n",
        "### Pandas program to create and display a DataFrame from a specified dictionary data which has the index labels"
      ]
    },
    {
      "cell_type": "code",
      "execution_count": null,
      "metadata": {
        "colab": {
          "base_uri": "https://localhost:8080/"
        },
        "id": "-IRD-0PfmsOn",
        "outputId": "e970f1ca-30a0-4f57-efd6-003a45473d15"
      },
      "outputs": [
        {
          "name": "stdout",
          "output_type": "stream",
          "text": [
            "     name  score  attempts qualify\n",
            "a    Arif   12.5         1     yes\n",
            "b    Asir    9.0         3      no\n",
            "c    Arik   16.5         2     yes\n",
            "d    Anis    NaN         3      no\n",
            "e    Anil    9.0         2      no\n",
            "f  Ashish   20.0         3     yes\n",
            "g   Anahi   14.5         1     yes\n",
            "h    Alia    NaN         1      no\n",
            "i   Alvin    8.0         2      no\n",
            "j    Asim   19.0         1     yes\n"
          ]
        }
      ],
      "source": [
        "exam_data = {\n",
        "    'name': ['Arif', 'Asir', 'Arik', 'Anis', 'Anil', 'Ashish', 'Anahi', 'Alia', 'Alvin', 'Asim'],\n",
        "    'score': [12.5, 9, 16.5, np.nan, 9, 20, 14.5, np.nan, 8, 19],\n",
        "    'attempts': [1, 3, 2, 3, 2, 3, 1, 1, 2, 1],\n",
        "    'qualify': ['yes', 'no', 'yes', 'no', 'no', 'yes', 'yes', 'no', 'no', 'yes']\n",
        "}\n",
        "\n",
        "labels =  ['a', 'b', 'c', 'd', 'e', 'f', 'g', 'h', 'i', 'j']\n",
        "df = pd.DataFrame(exam_data, index=labels)\n",
        "print(df)"
      ]
    },
    {
      "cell_type": "code",
      "execution_count": null,
      "metadata": {
        "id": "SMBRJ38qmu9w"
      },
      "outputs": [],
      "source": []
    }
  ],
  "metadata": {
    "colab": {
      "provenance": [],
      "include_colab_link": true
    },
    "kernelspec": {
      "display_name": "Python 3",
      "name": "python3"
    },
    "language_info": {
      "name": "python"
    }
  },
  "nbformat": 4,
  "nbformat_minor": 0
}